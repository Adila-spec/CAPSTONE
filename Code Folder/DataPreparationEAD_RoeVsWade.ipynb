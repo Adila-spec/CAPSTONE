{
 "cells": [
  {
   "cell_type": "markdown",
   "id": "d265f8df",
   "metadata": {},
   "source": [
    "## Social Media Monitoring with Sentiment Analysis on the Supreme Court’s Overturning on Roe vs. Wade"
   ]
  },
  {
   "cell_type": "markdown",
   "id": "91a98095",
   "metadata": {},
   "source": [
    "### Data Preparation: scraping 200,000 tweets from twitter"
   ]
  },
  {
   "cell_type": "markdown",
   "id": "c38586be",
   "metadata": {},
   "source": [
    "\n",
    "#### 200,000 tweets are scraped from Twitter to obtain users’ description and text tweeted by users relating to overturning Roe vs Wade. Resource link to get Twitter API Access https://developer.twitter.com/en/docs/twitter-api/getting-started/getting-access-to-the-twitter-api"
   ]
  },
  {
   "cell_type": "code",
   "execution_count": null,
   "id": "250c64a0",
   "metadata": {},
   "outputs": [],
   "source": [
    "import tweepy\n",
    "# first apply develop access from twitter to get authentication \n",
    "import time\n",
    "import pandas as pd\n",
    "\n",
    "pd.set_option('display.max_rows', 300)\n",
    "pd.set_option('display.width', 1000)\n",
    "#To get access authorization to scrape data from Twitter api_key, api_key_secret, access_token, \n",
    "#access_token_secret is applied and tweepy.OAuthHandler function is called to perform authentication\n",
    "api_key= insert ''\n",
    "api_key_secret= ''\n",
    "access_token=''\n",
    "access_token_secret= ''\n",
    "\n",
    "auth = tweepy.OAuthHandler(api_key, api_key_secret)\n",
    "auth.set_access_token(access_token, access_token_secret)\n",
    "api = tweepy.API(auth, wait_on_rate_limit=True)\n",
    "\n",
    "# setting keywords and limit = 200000 for query \n",
    "keywords = 'Roe OR Wade OR abortion lang:en -is:retweet -RT -has:links -has:media -is:verified'\n",
    "limit = 200000\n",
    "\n",
    "\n",
    "tweets = tweepy.Cursor(api.search_tweets,\n",
    "                       q=keywords,\n",
    "                       count=100,\n",
    "                       tweet_mode='extended').items(limit)"
   ]
  },
  {
   "cell_type": "code",
   "execution_count": null,
   "id": "5937f48e",
   "metadata": {},
   "outputs": [],
   "source": [
    "# identifying User, User_description, variables to be scraped from\n",
    "columns = ['User', 'User_description', 'Tweet_text']\n",
    "data = []\n",
    "\n",
    "for tweet in tweets:\n",
    "    data.append([tweet.user.screen_name, tweet.user.description, tweet.full_text])\n",
    "    \n",
    "df = pd.DataFrame(data, columns=columns)\n",
    "# it will give csv file output to computer with file name RoeVsWade_tweets_200000\n",
    "filename = \"RoeVsWade_tweets_\" + str(limit) + \".csv\"\n",
    "df.to_csv(filename,index=False)"
   ]
  },
  {
   "cell_type": "code",
   "execution_count": 1,
   "id": "ebee0119-d840-4b0c-b7d7-ec37604f323d",
   "metadata": {},
   "outputs": [
    {
     "name": "stderr",
     "output_type": "stream",
     "text": [
      "[nltk_data] Downloading package wordnet to\n",
      "[nltk_data]     C:\\Users\\saith\\AppData\\Roaming\\nltk_data...\n",
      "[nltk_data]   Package wordnet is already up-to-date!\n",
      "[nltk_data] Downloading package vader_lexicon to\n",
      "[nltk_data]     C:\\Users\\saith\\AppData\\Roaming\\nltk_data...\n",
      "[nltk_data]   Package vader_lexicon is already up-to-date!\n",
      "[nltk_data] Downloading package opinion_lexicon to\n",
      "[nltk_data]     C:\\Users\\saith\\AppData\\Roaming\\nltk_data...\n",
      "[nltk_data]   Package opinion_lexicon is already up-to-date!\n"
     ]
    }
   ],
   "source": [
    "import pandas as pd\n",
    "import numpy as np\n",
    "import os\n",
    "import seaborn as sns\n",
    "\n",
    "import nltk\n",
    "import matplotlib.pyplot as plt\n",
    "import html\n",
    "import sklearn.metrics as metrics\n",
    "\n",
    "from nltk.corpus import stopwords\n",
    "from nltk.stem import WordNetLemmatizer\n",
    "from string import punctuation\n",
    "\n",
    "from sklearn.preprocessing import MultiLabelBinarizer\n",
    "from sklearn.preprocessing import OneHotEncoder\n",
    "from sklearn.feature_extraction.text import TfidfTransformer, CountVectorizer\n",
    "\n",
    "from sklearn.feature_extraction.text import TfidfVectorizer\n",
    "\n",
    "# classification\n",
    "from sklearn.model_selection import train_test_split\n",
    "from sklearn.svm import LinearSVC\n",
    "from sklearn.dummy import DummyClassifier\n",
    "from sklearn.metrics import accuracy_score\n",
    "from sklearn.metrics import confusion_matrix\n",
    "from sklearn.metrics import classification_report\n",
    "from sklearn.metrics import plot_confusion_matrix\n",
    "from sklearn.model_selection import cross_val_score\n",
    "from sklearn.model_selection import train_test_split\n",
    "\n",
    "# Regression\n",
    "from sklearn.feature_extraction.text import TfidfVectorizer\n",
    "\n",
    "# topic modelling\n",
    "from sklearn.feature_extraction.text import CountVectorizer\n",
    "from sklearn.decomposition import LatentDirichletAllocation\n",
    "\n",
    "nltk.download('wordnet')\n",
    "from nltk.corpus import opinion_lexicon \n",
    "nltk.download('vader_lexicon')\n",
    "from nltk.tokenize import word_tokenize\n",
    "nltk.download('opinion_lexicon')\n",
    "from nltk.corpus import subjectivity\n",
    "from nltk.sentiment import SentimentAnalyzer\n",
    "from nltk.sentiment.util import *\n",
    "from nltk.sentiment.vader import SentimentIntensityAnalyzer\n",
    "from textblob import TextBlob"
   ]
  },
  {
   "cell_type": "code",
   "execution_count": 2,
   "id": "6ee88a85-4206-4a11-8fb1-07d8c501f686",
   "metadata": {},
   "outputs": [
    {
     "data": {
      "text/plain": [
       "User                    0\n",
       "User_description    28789\n",
       "Tweet_text              0\n",
       "dtype: int64"
      ]
     },
     "execution_count": 2,
     "metadata": {},
     "output_type": "execute_result"
    }
   ],
   "source": [
    "df = pd.read_csv(r\"C:\\Users\\saith\\Documents\\msads599_capstone\\module 5\\RoeVsWade_tweets_200000.csv\")\n",
    "df.isnull().sum()\n"
   ]
  },
  {
   "cell_type": "code",
   "execution_count": 3,
   "id": "a21c0fcc",
   "metadata": {},
   "outputs": [],
   "source": [
    "df = df.dropna()"
   ]
  },
  {
   "cell_type": "code",
   "execution_count": 4,
   "id": "b0b3fa50-d07e-486d-adaf-6ead8a2a3a49",
   "metadata": {},
   "outputs": [
    {
     "data": {
      "text/html": [
       "<div>\n",
       "<style scoped>\n",
       "    .dataframe tbody tr th:only-of-type {\n",
       "        vertical-align: middle;\n",
       "    }\n",
       "\n",
       "    .dataframe tbody tr th {\n",
       "        vertical-align: top;\n",
       "    }\n",
       "\n",
       "    .dataframe thead th {\n",
       "        text-align: right;\n",
       "    }\n",
       "</style>\n",
       "<table border=\"1\" class=\"dataframe\">\n",
       "  <thead>\n",
       "    <tr style=\"text-align: right;\">\n",
       "      <th></th>\n",
       "      <th>User</th>\n",
       "      <th>User_description</th>\n",
       "      <th>Tweet_text</th>\n",
       "    </tr>\n",
       "  </thead>\n",
       "  <tbody>\n",
       "    <tr>\n",
       "      <th>0</th>\n",
       "      <td>LifeNewsToo</td>\n",
       "      <td>Project of LifeNews the #1 pro-life web site. ...</td>\n",
       "      <td>Two Tennessee Abortion Businesses Have Already...</td>\n",
       "    </tr>\n",
       "    <tr>\n",
       "      <th>1</th>\n",
       "      <td>StevenErtelt</td>\n",
       "      <td>Founder and Editor of https://t.co/vMByGKehw4 ...</td>\n",
       "      <td>Two Tennessee Abortion Businesses Have Already...</td>\n",
       "    </tr>\n",
       "    <tr>\n",
       "      <th>2</th>\n",
       "      <td>adhdwonderwoman</td>\n",
       "      <td>I make lots of random “funness” on my other fo...</td>\n",
       "      <td>@LeaderMcConnell Labels are BS .Without hesita...</td>\n",
       "    </tr>\n",
       "    <tr>\n",
       "      <th>3</th>\n",
       "      <td>Beautoxx_1</td>\n",
       "      <td>Queer He/Him/His Dream of a better world with ...</td>\n",
       "      <td>@taradublinrocks That’s interesting because wh...</td>\n",
       "    </tr>\n",
       "    <tr>\n",
       "      <th>4</th>\n",
       "      <td>bdqyrt</td>\n",
       "      <td>lived from WOKEGE</td>\n",
       "      <td>@AUUUGHHHHHHH @cIeancutz Roe and Wade botlane</td>\n",
       "    </tr>\n",
       "  </tbody>\n",
       "</table>\n",
       "</div>"
      ],
      "text/plain": [
       "              User                                   User_description  \\\n",
       "0      LifeNewsToo  Project of LifeNews the #1 pro-life web site. ...   \n",
       "1     StevenErtelt  Founder and Editor of https://t.co/vMByGKehw4 ...   \n",
       "2  adhdwonderwoman  I make lots of random “funness” on my other fo...   \n",
       "3       Beautoxx_1  Queer He/Him/His Dream of a better world with ...   \n",
       "4           bdqyrt                                  lived from WOKEGE   \n",
       "\n",
       "                                          Tweet_text  \n",
       "0  Two Tennessee Abortion Businesses Have Already...  \n",
       "1  Two Tennessee Abortion Businesses Have Already...  \n",
       "2  @LeaderMcConnell Labels are BS .Without hesita...  \n",
       "3  @taradublinrocks That’s interesting because wh...  \n",
       "4      @AUUUGHHHHHHH @cIeancutz Roe and Wade botlane  "
      ]
     },
     "execution_count": 4,
     "metadata": {},
     "output_type": "execute_result"
    }
   ],
   "source": [
    "df.head()"
   ]
  },
  {
   "cell_type": "markdown",
   "id": "3848e5d9",
   "metadata": {},
   "source": [
    "### Data Preparation: Obtaining Polarity Score to prepare data for Sentiment Analysis"
   ]
  },
  {
   "cell_type": "markdown",
   "id": "daa84f9e",
   "metadata": {},
   "source": [
    "#### Polarity score is used to quantify positive or negative feelings based on twitter user tweeted text relating to overturning Roe vs Wade. To calculate polarity of a text, each word of the text in the dictionary is added to get an overall polarity score"
   ]
  },
  {
   "cell_type": "markdown",
   "id": "989de194",
   "metadata": {},
   "source": [
    "#### To define polarity score function , here is the resource link for TextBlob(text) https://stackabuse.com/python-for-nlp-introduction-to-the-textblob-library/"
   ]
  },
  {
   "cell_type": "code",
   "execution_count": 5,
   "id": "931b1025-4829-4719-ad06-a0f78b2f59fd",
   "metadata": {},
   "outputs": [],
   "source": [
    "#TextBlob is used to calculate a sentence's polarity\n",
    "# polarity_score(text) is used to quantify sentiment with positive or negative value\n",
    "# defyning polarity_score functio by using def polarity_score(text):\n",
    "\n",
    "def polarity_score(text):\n",
    "    blob = TextBlob(text)\n",
    "    return blob.sentiment.polarity"
   ]
  },
  {
   "cell_type": "code",
   "execution_count": 6,
   "id": "94f9b23d-fc02-45fe-9268-a8b75c5ddb82",
   "metadata": {},
   "outputs": [],
   "source": [
    "# create list from tweeted text with for loop and apply it to polarity_scores function\n",
    "# append() is used to add a single item to certain collection types.\n",
    "\n",
    "polarity_scores = list()\n",
    "for index, row in df.iterrows():\n",
    "    tweet = row['Tweet_text']\n",
    "    score = polarity_score(tweet)\n",
    "    polarity_scores.append(score)"
   ]
  },
  {
   "cell_type": "code",
   "execution_count": 7,
   "id": "540dd0e7-eac2-4d08-80a2-75765e6f37e9",
   "metadata": {},
   "outputs": [],
   "source": [
    "# Polarity column that contained polarity score for each tweeted text by respective users is added to the data frame\n",
    "df['Polarity'] = polarity_scores"
   ]
  },
  {
   "cell_type": "code",
   "execution_count": 8,
   "id": "c8133656-5f61-451a-96d7-0520d05e3875",
   "metadata": {
    "scrolled": true
   },
   "outputs": [
    {
     "data": {
      "text/html": [
       "<div>\n",
       "<style scoped>\n",
       "    .dataframe tbody tr th:only-of-type {\n",
       "        vertical-align: middle;\n",
       "    }\n",
       "\n",
       "    .dataframe tbody tr th {\n",
       "        vertical-align: top;\n",
       "    }\n",
       "\n",
       "    .dataframe thead th {\n",
       "        text-align: right;\n",
       "    }\n",
       "</style>\n",
       "<table border=\"1\" class=\"dataframe\">\n",
       "  <thead>\n",
       "    <tr style=\"text-align: right;\">\n",
       "      <th></th>\n",
       "      <th>User</th>\n",
       "      <th>User_description</th>\n",
       "      <th>Tweet_text</th>\n",
       "      <th>Polarity</th>\n",
       "    </tr>\n",
       "  </thead>\n",
       "  <tbody>\n",
       "    <tr>\n",
       "      <th>0</th>\n",
       "      <td>LifeNewsToo</td>\n",
       "      <td>Project of LifeNews the #1 pro-life web site. ...</td>\n",
       "      <td>Two Tennessee Abortion Businesses Have Already...</td>\n",
       "      <td>-0.1000</td>\n",
       "    </tr>\n",
       "    <tr>\n",
       "      <th>1</th>\n",
       "      <td>StevenErtelt</td>\n",
       "      <td>Founder and Editor of https://t.co/vMByGKehw4 ...</td>\n",
       "      <td>Two Tennessee Abortion Businesses Have Already...</td>\n",
       "      <td>-0.1000</td>\n",
       "    </tr>\n",
       "    <tr>\n",
       "      <th>2</th>\n",
       "      <td>adhdwonderwoman</td>\n",
       "      <td>I make lots of random “funness” on my other fo...</td>\n",
       "      <td>@LeaderMcConnell Labels are BS .Without hesita...</td>\n",
       "      <td>-0.0375</td>\n",
       "    </tr>\n",
       "    <tr>\n",
       "      <th>3</th>\n",
       "      <td>Beautoxx_1</td>\n",
       "      <td>Queer He/Him/His Dream of a better world with ...</td>\n",
       "      <td>@taradublinrocks That’s interesting because wh...</td>\n",
       "      <td>0.3000</td>\n",
       "    </tr>\n",
       "    <tr>\n",
       "      <th>4</th>\n",
       "      <td>bdqyrt</td>\n",
       "      <td>lived from WOKEGE</td>\n",
       "      <td>@AUUUGHHHHHHH @cIeancutz Roe and Wade botlane</td>\n",
       "      <td>0.0000</td>\n",
       "    </tr>\n",
       "  </tbody>\n",
       "</table>\n",
       "</div>"
      ],
      "text/plain": [
       "              User                                   User_description  \\\n",
       "0      LifeNewsToo  Project of LifeNews the #1 pro-life web site. ...   \n",
       "1     StevenErtelt  Founder and Editor of https://t.co/vMByGKehw4 ...   \n",
       "2  adhdwonderwoman  I make lots of random “funness” on my other fo...   \n",
       "3       Beautoxx_1  Queer He/Him/His Dream of a better world with ...   \n",
       "4           bdqyrt                                  lived from WOKEGE   \n",
       "\n",
       "                                          Tweet_text  Polarity  \n",
       "0  Two Tennessee Abortion Businesses Have Already...   -0.1000  \n",
       "1  Two Tennessee Abortion Businesses Have Already...   -0.1000  \n",
       "2  @LeaderMcConnell Labels are BS .Without hesita...   -0.0375  \n",
       "3  @taradublinrocks That’s interesting because wh...    0.3000  \n",
       "4      @AUUUGHHHHHHH @cIeancutz Roe and Wade botlane    0.0000  "
      ]
     },
     "execution_count": 8,
     "metadata": {},
     "output_type": "execute_result"
    }
   ],
   "source": [
    "df.head()"
   ]
  },
  {
   "cell_type": "code",
   "execution_count": 9,
   "id": "44a61fc4",
   "metadata": {},
   "outputs": [
    {
     "data": {
      "text/plain": [
       "<AxesSubplot:xlabel='Polarity', ylabel='Count'>"
      ]
     },
     "execution_count": 9,
     "metadata": {},
     "output_type": "execute_result"
    },
    {
     "data": {
      "image/png": "[encoded data removed]",
      "text/plain": [
       "<Figure size 432x288 with 1 Axes>"
      ]
     },
     "metadata": {
      "needs_background": "light"
     },
     "output_type": "display_data"
    }
   ],
   "source": [
    "# distribution of polarity scores in a large group of 200,000 tweets\n",
    "director_plot = sns.histplot(df['Polarity'])\n",
    "director_plot.set(xlim=(0, 1))\n",
    "director_plot"
   ]
  },
  {
   "cell_type": "markdown",
   "id": "649c0a35",
   "metadata": {},
   "source": [
    "## Data Preparation and Aggregation"
   ]
  },
  {
   "cell_type": "markdown",
   "id": "85957c6d",
   "metadata": {},
   "source": [
    "#### Resources for defining cleaning text function html.unescape(text)  https://www.geeksforgeeks.org/html-unescape-in-python/  re.sub() function : https://www.pythontutorial.net/python-regex/python-regex-sub/"
   ]
  },
  {
   "cell_type": "code",
   "execution_count": 12,
   "id": "ce9eb928",
   "metadata": {},
   "outputs": [
    {
     "name": "stderr",
     "output_type": "stream",
     "text": [
      "<>:36: SyntaxWarning: \"is not\" with a literal. Did you mean \"!=\"?\n",
      "<>:36: SyntaxWarning: \"is not\" with a literal. Did you mean \"!=\"?\n",
      "<ipython-input-12-4cc02996b2ba>:36: SyntaxWarning: \"is not\" with a literal. Did you mean \"!=\"?\n",
      "  return [i for i in ret if i is not '']\n"
     ]
    }
   ],
   "source": [
    "def Textcleaner(text):\n",
    "\n",
    "    text = html.unescape(text)\n",
    "    \n",
    "    text = re.sub('\\[.*?\\]', '', text)\n",
    "    text = re.sub('https?://\\S+|www\\.\\S+', '', text)\n",
    "    text = re.sub('<.*?>+', '', text)\n",
    "    \n",
    "    text = re.sub('\\n', '', text)\n",
    "    text = re.sub('\\w*\\d\\w*', '', text)\n",
    "    \n",
    "   \n",
    "    return text.strip()\n",
    "\n",
    "def punctuation_remover(text, exclude=None):\n",
    "    pset = set(punctuation) \n",
    "    pset = pset - exclude\n",
    "    \n",
    "    return ''.join([i for i in text if i not in pset])\n",
    "\n",
    "def tokenization(text):\n",
    "\n",
    "    ret = text.lower()\n",
    "    ret = ret.split(' ')\n",
    "\n",
    "    \n",
    "    return [i for i in ret if i is not '']\n",
    "\n",
    "def remove_stopwords(tokens, exclude):\n",
    "    sw = set(stopwords.words(\"english\"))\n",
    "    sw = sw - exclude\n",
    "    \n",
    "    return [i for i in tokens if i not in sw]\n",
    "    \n",
    "\n",
    "def lemmatize(tokens):\n",
    "    lemmatizer = WordNetLemmatizer()\n",
    "    \n",
    "    return [lemmatizer.lemmatize(i) for i in tokens]"
   ]
  },
  {
   "cell_type": "code",
   "execution_count": 13,
   "id": "bcbdb454-4ee9-4929-9d5e-7f06797f7b48",
   "metadata": {},
   "outputs": [],
   "source": [
    "df['User_description_cleaned'] = df['User_description'].copy()\n",
    "df['User_description_cleaned'] = df['User_description_cleaned'].apply(Textcleaner)\n",
    "df['lammetaized_tokens'] = df['User_description_cleaned'].apply(punctuation_remover, exclude=set()).apply(tokenization).apply(remove_stopwords, exclude=set(['not', 'never', 'nor'])).apply(lemmatize)\n",
    "df['User_description_cleaned'] = df['lammetaized_tokens'].apply(lambda x: ' '.join(x))\n",
    "df = df[df['lammetaized_tokens'].str.len() > 5]\n",
    "df = df[df['Polarity'] != 0.0]\n",
    "\n",
    "# creating for loop with if polarity score is >1 it is positive feeling, if less than 0 it is negative feeling \n",
    "\n",
    "\n",
    "polarity_scores = list()\n",
    "for index, row in df.iterrows():\n",
    "    polarity = row['Polarity']\n",
    "    if polarity > 0:\n",
    "        polarity_scores.append(1)\n",
    "    else:\n",
    "        polarity_scores.append(0)\n",
    "df['Polarity'] = polarity_scores"
   ]
  },
  {
   "cell_type": "markdown",
   "id": "77ad2858",
   "metadata": {},
   "source": [
    "## Exploratory Data Analysis"
   ]
  },
  {
   "cell_type": "markdown",
   "id": "628a2e5f",
   "metadata": {},
   "source": [
    "#### In a large group of 200,000 tweets that tweeted text \"Roe vs. Wade\", EDA shows that polarity score quantify 59,884 positive feelings and 30,971 negative feelings toward overturning Roe vs. Wade"
   ]
  },
  {
   "cell_type": "code",
   "execution_count": 14,
   "id": "64610e94-5986-448d-a712-9919a3942f50",
   "metadata": {},
   "outputs": [
    {
     "data": {
      "text/plain": [
       "1    59884\n",
       "0    30971\n",
       "Name: Polarity, dtype: int64"
      ]
     },
     "execution_count": 14,
     "metadata": {},
     "output_type": "execute_result"
    }
   ],
   "source": [
    "df['Polarity'].value_counts()"
   ]
  },
  {
   "cell_type": "code",
   "execution_count": 15,
   "id": "6ae2589f",
   "metadata": {},
   "outputs": [
    {
     "data": {
      "text/plain": [
       "<AxesSubplot:xlabel='Polarity', ylabel='Count'>"
      ]
     },
     "execution_count": 15,
     "metadata": {},
     "output_type": "execute_result"
    },
    {
     "data": {
      "image/png": "[encoded data removed]",
      "text/plain": [
       "<Figure size 432x288 with 1 Axes>"
      ]
     },
     "metadata": {
      "needs_background": "light"
     },
     "output_type": "display_data"
    }
   ],
   "source": [
    "\n",
    "director_plot = sns.histplot(df['Polarity'])\n",
    "director_plot.set(xlim=(0, 1))\n",
    "director_plot"
   ]
  }
 ],
 "metadata": {
  "kernelspec": {
   "display_name": "Python 3",
   "language": "python",
   "name": "python3"
  },
  "language_info": {
   "codemirror_mode": {
    "name": "ipython",
    "version": 3
   },
   "file_extension": ".py",
   "mimetype": "text/x-python",
   "name": "python",
   "nbconvert_exporter": "python",
   "pygments_lexer": "ipython3",
   "version": "3.8.8"
  }
 },
 "nbformat": 4,
 "nbformat_minor": 5
}
