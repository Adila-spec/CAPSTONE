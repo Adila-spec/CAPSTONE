{
 "cells": [
  {
   "cell_type": "code",
   "execution_count": 1,
   "id": "ebee0119-d840-4b0c-b7d7-ec37604f323d",
   "metadata": {},
   "outputs": [
    {
     "name": "stderr",
     "output_type": "stream",
     "text": [
      "[nltk_data] Downloading package wordnet to /Users/ikuyasu/nltk_data...\n",
      "[nltk_data]   Package wordnet is already up-to-date!\n",
      "[nltk_data] Downloading package vader_lexicon to\n",
      "[nltk_data]     /Users/ikuyasu/nltk_data...\n",
      "[nltk_data]   Package vader_lexicon is already up-to-date!\n",
      "[nltk_data] Downloading package opinion_lexicon to\n",
      "[nltk_data]     /Users/ikuyasu/nltk_data...\n",
      "[nltk_data]   Package opinion_lexicon is already up-to-date!\n"
     ]
    }
   ],
   "source": [
    "import pandas as pd\n",
    "import numpy as np\n",
    "import os\n",
    "\n",
    "import nltk\n",
    "import matplotlib.pyplot as plt\n",
    "\n",
    "from nltk.corpus import stopwords\n",
    "from nltk.stem import WordNetLemmatizer\n",
    "from string import punctuation\n",
    "\n",
    "from sklearn.preprocessing import MultiLabelBinarizer\n",
    "from sklearn.preprocessing import OneHotEncoder\n",
    "from sklearn.feature_extraction.text import TfidfTransformer, CountVectorizer\n",
    "\n",
    "from sklearn.feature_extraction.text import TfidfVectorizer\n",
    "\n",
    "# classification\n",
    "from sklearn.model_selection import train_test_split\n",
    "from sklearn.svm import LinearSVC\n",
    "from sklearn.dummy import DummyClassifier\n",
    "from sklearn.metrics import accuracy_score\n",
    "from sklearn.metrics import mean_squared_error\n",
    "from sklearn.metrics import confusion_matrix\n",
    "from sklearn.metrics import classification_report\n",
    "from sklearn.metrics import plot_confusion_matrix\n",
    "from sklearn.metrics import plot_roc_curve\n",
    "from sklearn.model_selection import cross_val_score\n",
    "from sklearn.model_selection import train_test_split\n",
    "\n",
    "# Save model\n",
    "import joblib\n",
    "\n",
    "# Regression\n",
    "from sklearn.feature_extraction.text import TfidfVectorizer\n",
    "\n",
    "# topic modelling\n",
    "from sklearn.feature_extraction.text import CountVectorizer\n",
    "from sklearn.decomposition import LatentDirichletAllocation\n",
    "\n",
    "nltk.download('wordnet')\n",
    "from nltk.corpus import opinion_lexicon \n",
    "nltk.download('vader_lexicon')\n",
    "from nltk.tokenize import word_tokenize\n",
    "nltk.download('opinion_lexicon')\n",
    "from nltk.corpus import subjectivity\n",
    "from nltk.sentiment import SentimentAnalyzer\n",
    "from nltk.sentiment.util import *\n",
    "from nltk.sentiment.vader import SentimentIntensityAnalyzer\n",
    "from textblob import TextBlob"
   ]
  },
  {
   "cell_type": "code",
   "execution_count": 2,
   "id": "6ee88a85-4206-4a11-8fb1-07d8c501f686",
   "metadata": {},
   "outputs": [],
   "source": [
    "df = pd.read_csv(\"RoeVsWade_tweets_200000.csv\")\n",
    "df = df.dropna()"
   ]
  },
  {
   "cell_type": "code",
   "execution_count": 3,
   "id": "b0b3fa50-d07e-486d-adaf-6ead8a2a3a49",
   "metadata": {},
   "outputs": [
    {
     "data": {
      "text/html": [
       "<div>\n",
       "<style scoped>\n",
       "    .dataframe tbody tr th:only-of-type {\n",
       "        vertical-align: middle;\n",
       "    }\n",
       "\n",
       "    .dataframe tbody tr th {\n",
       "        vertical-align: top;\n",
       "    }\n",
       "\n",
       "    .dataframe thead th {\n",
       "        text-align: right;\n",
       "    }\n",
       "</style>\n",
       "<table border=\"1\" class=\"dataframe\">\n",
       "  <thead>\n",
       "    <tr style=\"text-align: right;\">\n",
       "      <th></th>\n",
       "      <th>User</th>\n",
       "      <th>User_description</th>\n",
       "      <th>Tweet_text</th>\n",
       "    </tr>\n",
       "  </thead>\n",
       "  <tbody>\n",
       "    <tr>\n",
       "      <th>0</th>\n",
       "      <td>LifeNewsToo</td>\n",
       "      <td>Project of LifeNews the #1 pro-life web site. ...</td>\n",
       "      <td>Two Tennessee Abortion Businesses Have Already...</td>\n",
       "    </tr>\n",
       "    <tr>\n",
       "      <th>1</th>\n",
       "      <td>StevenErtelt</td>\n",
       "      <td>Founder and Editor of https://t.co/vMByGKehw4 ...</td>\n",
       "      <td>Two Tennessee Abortion Businesses Have Already...</td>\n",
       "    </tr>\n",
       "    <tr>\n",
       "      <th>2</th>\n",
       "      <td>adhdwonderwoman</td>\n",
       "      <td>I make lots of random “funness” on my other fo...</td>\n",
       "      <td>@LeaderMcConnell Labels are BS .Without hesita...</td>\n",
       "    </tr>\n",
       "    <tr>\n",
       "      <th>3</th>\n",
       "      <td>Beautoxx_1</td>\n",
       "      <td>Queer He/Him/His Dream of a better world with ...</td>\n",
       "      <td>@taradublinrocks That’s interesting because wh...</td>\n",
       "    </tr>\n",
       "    <tr>\n",
       "      <th>4</th>\n",
       "      <td>bdqyrt</td>\n",
       "      <td>lived from WOKEGE</td>\n",
       "      <td>@AUUUGHHHHHHH @cIeancutz Roe and Wade botlane</td>\n",
       "    </tr>\n",
       "  </tbody>\n",
       "</table>\n",
       "</div>"
      ],
      "text/plain": [
       "              User                                   User_description  \\\n",
       "0      LifeNewsToo  Project of LifeNews the #1 pro-life web site. ...   \n",
       "1     StevenErtelt  Founder and Editor of https://t.co/vMByGKehw4 ...   \n",
       "2  adhdwonderwoman  I make lots of random “funness” on my other fo...   \n",
       "3       Beautoxx_1  Queer He/Him/His Dream of a better world with ...   \n",
       "4           bdqyrt                                  lived from WOKEGE   \n",
       "\n",
       "                                          Tweet_text  \n",
       "0  Two Tennessee Abortion Businesses Have Already...  \n",
       "1  Two Tennessee Abortion Businesses Have Already...  \n",
       "2  @LeaderMcConnell Labels are BS .Without hesita...  \n",
       "3  @taradublinrocks That’s interesting because wh...  \n",
       "4      @AUUUGHHHHHHH @cIeancutz Roe and Wade botlane  "
      ]
     },
     "execution_count": 3,
     "metadata": {},
     "output_type": "execute_result"
    }
   ],
   "source": [
    "df.head()"
   ]
  },
  {
   "cell_type": "code",
   "execution_count": 4,
   "id": "931b1025-4829-4719-ad06-a0f78b2f59fd",
   "metadata": {},
   "outputs": [],
   "source": [
    "def polarity_score(text):\n",
    "    blob = TextBlob(text)\n",
    "    return blob.sentiment.polarity"
   ]
  },
  {
   "cell_type": "code",
   "execution_count": 5,
   "id": "94f9b23d-fc02-45fe-9268-a8b75c5ddb82",
   "metadata": {},
   "outputs": [],
   "source": [
    "polarity_scores = list()\n",
    "for index, row in df.iterrows():\n",
    "    tweet = row['Tweet_text']\n",
    "    score = polarity_score(tweet)\n",
    "    polarity_scores.append(score)"
   ]
  },
  {
   "cell_type": "code",
   "execution_count": 6,
   "id": "540dd0e7-eac2-4d08-80a2-75765e6f37e9",
   "metadata": {},
   "outputs": [],
   "source": [
    "df['Polarity'] = polarity_scores"
   ]
  },
  {
   "cell_type": "code",
   "execution_count": 7,
   "id": "c8133656-5f61-451a-96d7-0520d05e3875",
   "metadata": {},
   "outputs": [
    {
     "data": {
      "text/html": [
       "<div>\n",
       "<style scoped>\n",
       "    .dataframe tbody tr th:only-of-type {\n",
       "        vertical-align: middle;\n",
       "    }\n",
       "\n",
       "    .dataframe tbody tr th {\n",
       "        vertical-align: top;\n",
       "    }\n",
       "\n",
       "    .dataframe thead th {\n",
       "        text-align: right;\n",
       "    }\n",
       "</style>\n",
       "<table border=\"1\" class=\"dataframe\">\n",
       "  <thead>\n",
       "    <tr style=\"text-align: right;\">\n",
       "      <th></th>\n",
       "      <th>User</th>\n",
       "      <th>User_description</th>\n",
       "      <th>Tweet_text</th>\n",
       "      <th>Polarity</th>\n",
       "    </tr>\n",
       "  </thead>\n",
       "  <tbody>\n",
       "    <tr>\n",
       "      <th>0</th>\n",
       "      <td>LifeNewsToo</td>\n",
       "      <td>Project of LifeNews the #1 pro-life web site. ...</td>\n",
       "      <td>Two Tennessee Abortion Businesses Have Already...</td>\n",
       "      <td>-0.1000</td>\n",
       "    </tr>\n",
       "    <tr>\n",
       "      <th>1</th>\n",
       "      <td>StevenErtelt</td>\n",
       "      <td>Founder and Editor of https://t.co/vMByGKehw4 ...</td>\n",
       "      <td>Two Tennessee Abortion Businesses Have Already...</td>\n",
       "      <td>-0.1000</td>\n",
       "    </tr>\n",
       "    <tr>\n",
       "      <th>2</th>\n",
       "      <td>adhdwonderwoman</td>\n",
       "      <td>I make lots of random “funness” on my other fo...</td>\n",
       "      <td>@LeaderMcConnell Labels are BS .Without hesita...</td>\n",
       "      <td>-0.0375</td>\n",
       "    </tr>\n",
       "    <tr>\n",
       "      <th>3</th>\n",
       "      <td>Beautoxx_1</td>\n",
       "      <td>Queer He/Him/His Dream of a better world with ...</td>\n",
       "      <td>@taradublinrocks That’s interesting because wh...</td>\n",
       "      <td>0.3000</td>\n",
       "    </tr>\n",
       "    <tr>\n",
       "      <th>4</th>\n",
       "      <td>bdqyrt</td>\n",
       "      <td>lived from WOKEGE</td>\n",
       "      <td>@AUUUGHHHHHHH @cIeancutz Roe and Wade botlane</td>\n",
       "      <td>0.0000</td>\n",
       "    </tr>\n",
       "  </tbody>\n",
       "</table>\n",
       "</div>"
      ],
      "text/plain": [
       "              User                                   User_description  \\\n",
       "0      LifeNewsToo  Project of LifeNews the #1 pro-life web site. ...   \n",
       "1     StevenErtelt  Founder and Editor of https://t.co/vMByGKehw4 ...   \n",
       "2  adhdwonderwoman  I make lots of random “funness” on my other fo...   \n",
       "3       Beautoxx_1  Queer He/Him/His Dream of a better world with ...   \n",
       "4           bdqyrt                                  lived from WOKEGE   \n",
       "\n",
       "                                          Tweet_text  Polarity  \n",
       "0  Two Tennessee Abortion Businesses Have Already...   -0.1000  \n",
       "1  Two Tennessee Abortion Businesses Have Already...   -0.1000  \n",
       "2  @LeaderMcConnell Labels are BS .Without hesita...   -0.0375  \n",
       "3  @taradublinrocks That’s interesting because wh...    0.3000  \n",
       "4      @AUUUGHHHHHHH @cIeancutz Roe and Wade botlane    0.0000  "
      ]
     },
     "execution_count": 7,
     "metadata": {},
     "output_type": "execute_result"
    }
   ],
   "source": [
    "df.head()"
   ]
  },
  {
   "cell_type": "code",
   "execution_count": 8,
   "id": "b732141c-a800-42a8-8676-e3e5b104bcd3",
   "metadata": {},
   "outputs": [
    {
     "name": "stderr",
     "output_type": "stream",
     "text": [
      "<>:30: SyntaxWarning: \"is not\" with a literal. Did you mean \"!=\"?\n",
      "<>:30: SyntaxWarning: \"is not\" with a literal. Did you mean \"!=\"?\n",
      "/var/folders/r2/6g3yrbms2xxdx1zb6jc8g7zc0000gn/T/ipykernel_5944/1587683140.py:30: SyntaxWarning: \"is not\" with a literal. Did you mean \"!=\"?\n",
      "  return [i for i in ret if i is not '']\n"
     ]
    }
   ],
   "source": [
    "import html\n",
    "def Textcleaner(text):\n",
    "  \n",
    "    # html. unescape() does replacement for numbers of the reserved HTML characters with its original character \n",
    "    text = html.unescape(text)\n",
    "    text = re.sub('\\[.*?\\]', '', text)\n",
    "    \n",
    "     text = re.sub('https?://\\S+|www\\.\\S+', '', text)\n",
    "    \n",
    "    \n",
    "    text = re.sub('<.*?>+', '', text)\n",
    "    \n",
    "    \n",
    "    text = re.sub('\\n', '', text)\n",
    "    \n",
    "    text = re.sub('\\w*\\d\\w*', '', text)\n",
    "    \n",
    "    return text.strip()\n",
    "\n",
    "def punctuation_remover(text, exclude=None):\n",
    "    sw = set(punctuation) \n",
    "    sw = sw - exclude\n",
    "    \n",
    "    return ''.join([i for i in text if i not in sw])\n",
    "\n",
    "def tokenization(text):\n",
    "    \n",
    "    ret = text.lower()\n",
    "    ret = ret.split(' ')\n",
    "    \n",
    "    \n",
    "    return [i for i in ret if i is not '']\n",
    "\n",
    "def remove_stopwords(tokens, exclude):\n",
    "    sw = set(stopwords.words(\"english\"))\n",
    "    sw = sw - exclude\n",
    "    \n",
    "    return [i for i in tokens if i not in sw]\n",
    "    \n",
    "#lemmatization to normalize text\n",
    "def lemmatize(tokens):\n",
    "    lemmatizer = WordNetLemmatizer()\n",
    "    \n",
    "    return [lemmatizer.lemmatize(i) for i in tokens]"
   ]
  },
  {
   "cell_type": "code",
   "execution_count": 9,
   "id": "bcbdb454-4ee9-4929-9d5e-7f06797f7b48",
   "metadata": {},
   "outputs": [],
   "source": [
    "df['User_description_cleaned'] = df['User_description'].copy()\n",
    "df['User_description_cleaned'] = df['User_description_cleaned'].apply(Textclean)\n",
    "df['lammetaized_tokens'] = df['User_description_cleaned'].apply(punctuation_remover, exclude=set()).apply(tokenize).apply(remove_stopwords, exclude=set(['not', 'never', 'nor'])).apply(lemmatize)\n",
    "df['User_description_cleaned'] = df['lammetaized_tokens'].apply(lambda x: ' '.join(x))\n",
    "df = df[df['lammetaized_tokens'].str.len() > 5]\n",
    "df = df[df['Polarity'] != 0.0]\n",
    "\n",
    "polarity_scores = list()\n",
    "for index, row in df.iterrows():\n",
    "    polarity = row['Polarity']\n",
    "    if polarity > 0:\n",
    "        polarity_scores.append(1)\n",
    "    else:\n",
    "        polarity_scores.append(0)\n",
    "df['Polarity'] = polarity_scores"
   ]
  },
  {
   "cell_type": "code",
   "execution_count": 10,
   "id": "64610e94-5986-448d-a712-9919a3942f50",
   "metadata": {},
   "outputs": [
    {
     "data": {
      "text/plain": [
       "1    60962\n",
       "0    31519\n",
       "Name: Polarity, dtype: int64"
      ]
     },
     "execution_count": 10,
     "metadata": {},
     "output_type": "execute_result"
    }
   ],
   "source": [
    "df['Polarity'].value_counts()"
   ]
  },
  {
   "cell_type": "code",
   "execution_count": 11,
   "id": "325199f8-c73b-4fe3-9633-a9642a69bb2b",
   "metadata": {},
   "outputs": [],
   "source": [
    "X_train, X_test, Y_train, Y_test = train_test_split(df['User_description_cleaned'],\n",
    "                                                        df['Polarity'],\n",
    "                                                        test_size=0.2,\n",
    "                                                        random_state=42)"
   ]
  },
  {
   "cell_type": "code",
   "execution_count": 12,
   "id": "e4b297f2-21c9-42d6-a992-79937f464a90",
   "metadata": {},
   "outputs": [
    {
     "data": {
      "text/plain": [
       "['tfidf.sav']"
      ]
     },
     "execution_count": 12,
     "metadata": {},
     "output_type": "execute_result"
    }
   ],
   "source": [
    "tfidf = TfidfVectorizer(min_df = 5, ngram_range=(1,1))\n",
    "X_train_tf = tfidf.fit_transform(X_train)\n",
    "X_test_tf = tfidf.transform(X_test)\n",
    "\n",
    "filename = 'tfidf.sav'\n",
    "joblib.dump(tfidf, filename)"
   ]
  },
  {
   "cell_type": "code",
   "execution_count": 13,
   "id": "6070cbf2-14f2-4da9-9f98-3d08860761d9",
   "metadata": {},
   "outputs": [
    {
     "data": {
      "text/plain": [
       "pandas.core.series.Series"
      ]
     },
     "execution_count": 13,
     "metadata": {},
     "output_type": "execute_result"
    }
   ],
   "source": [
    "type(X_train)"
   ]
  },
  {
   "cell_type": "code",
   "execution_count": 14,
   "id": "25440b00-a5b0-4820-b31a-38adebfb2cb4",
   "metadata": {},
   "outputs": [
    {
     "data": {
      "text/plain": [
       "['LinearSVC_model.sav']"
      ]
     },
     "execution_count": 14,
     "metadata": {},
     "output_type": "execute_result"
    }
   ],
   "source": [
    "# Using linear Support vector\n",
    "from sklearn.svm import LinearSVC\n",
    "from sklearn.calibration import CalibratedClassifierCV\n",
    " \n",
    "model = LinearSVC(C=1., penalty='l1', dual=False)\n",
    "model = CalibratedClassifierCV(model) \n",
    "model.fit(X_train_tf, Y_train)\n",
    "filename = 'LinearSVC_model.sav'\n",
    "joblib.dump(model, filename)"
   ]
  },
  {
   "cell_type": "code",
   "execution_count": 15,
   "id": "8b52c4e3-9dab-40c1-8865-6d9709db4bd0",
   "metadata": {},
   "outputs": [
    {
     "name": "stdout",
     "output_type": "stream",
     "text": [
      "Accuracy Score using Training set:  0.6648734861591695\n",
      "Accuracy Score using Test set:  0.666810834189328\n"
     ]
    },
    {
     "data": {
      "image/png": "[encoded data removed]",
      "text/plain": [
       "<Figure size 432x288 with 2 Axes>"
      ]
     },
     "metadata": {
      "needs_background": "light"
     },
     "output_type": "display_data"
    },
    {
     "data": {
      "image/png": "[encoded data removed]",
      "text/plain": [
       "<Figure size 432x288 with 1 Axes>"
      ]
     },
     "metadata": {
      "needs_background": "light"
     },
     "output_type": "display_data"
    }
   ],
   "source": [
    "print ('Accuracy Score using Training set: ', accuracy_score(Y_train, model.predict(X_train_tf)))\n",
    "Y_pred = model.predict(X_test_tf)\n",
    "print ('Accuracy Score using Test set: ', accuracy_score(Y_test, Y_pred))\n",
    "\n",
    "plot_confusion_matrix(model,\n",
    "                      X_test_tf,\n",
    "                      Y_test, \n",
    "                      values_format='d',\n",
    "                      cmap=plt.cm.Blues)\n",
    "\n",
    "plot_roc_curve(model, X_test_tf, Y_test) \n",
    "plt.show()"
   ]
  },
  {
   "cell_type": "code",
   "execution_count": 16,
   "id": "e5ae97b0-1a76-4528-b1b8-98cbf0134863",
   "metadata": {},
   "outputs": [
    {
     "name": "stderr",
     "output_type": "stream",
     "text": [
      "/Users/ikuyasu/miniconda3/envs/ml/lib/python3.9/site-packages/sklearn/svm/_base.py:985: ConvergenceWarning: Liblinear failed to converge, increase the number of iterations.\n",
      "  warnings.warn(\"Liblinear failed to converge, increase \"\n"
     ]
    },
    {
     "name": "stdout",
     "output_type": "stream",
     "text": [
      "Validation scores from each iteration of the cross validation  [0.6592064  0.65916955 0.65916955 0.65916955 0.65906142 0.65916955\n",
      " 0.65927768 0.65916955 0.65916955 0.65927768]\n",
      "Mean value across of validation scores  0.6591840483736949\n",
      "Standard deviation of validation scores  5.859457187818284e-05\n"
     ]
    }
   ],
   "source": [
    "# Cross Validation with 10 folds\n",
    "X = tfidf.fit_transform(df['User_description_cleaned'])\n",
    "Y = df['Polarity']\n",
    "scores = cross_val_score(estimator=model,\n",
    "                             X=X,\n",
    "                             y=Y,\n",
    "                             cv=10)\n",
    "print (\"Validation scores from each iteration of the cross validation \", scores) \n",
    "print (\"Mean value across of validation scores \", scores.mean())\n",
    "print (\"Standard deviation of validation scores \", scores.std())"
   ]
  },
  {
   "cell_type": "code",
   "execution_count": 17,
   "id": "192eb797-7cf4-4bda-abf5-a7076b269f0b",
   "metadata": {},
   "outputs": [
    {
     "name": "stdout",
     "output_type": "stream",
     "text": [
      "Accuracy Score using Training set:  0.8737429714532872\n",
      "Accuracy Score using Test set:  0.6403200519003082\n"
     ]
    },
    {
     "data": {
      "image/png": "[encoded data removed]",
      "text/plain": [
       "<Figure size 432x288 with 2 Axes>"
      ]
     },
     "metadata": {
      "needs_background": "light"
     },
     "output_type": "display_data"
    },
    {
     "data": {
      "image/png": "[encoded data removed]",
      "text/plain": [
       "<Figure size 432x288 with 1 Axes>"
      ]
     },
     "metadata": {
      "needs_background": "light"
     },
     "output_type": "display_data"
    }
   ],
   "source": [
    "# Using Random forest classifier\n",
    "from sklearn.ensemble import RandomForestClassifier\n",
    "classifier = RandomForestClassifier(n_estimators=100, random_state=0)\n",
    "classifier.fit(X_train_tf, Y_train) \n",
    "\n",
    "print ('Accuracy Score using Training set: ', accuracy_score(Y_train, classifier.predict(X_train_tf)))\n",
    "Y_pred = classifier.predict(X_test_tf)\n",
    "print ('Accuracy Score using Test set: ', accuracy_score(Y_test, Y_pred))\n",
    "\n",
    "plot_confusion_matrix(classifier,\n",
    "                      X_test_tf,\n",
    "                      Y_test, \n",
    "                      values_format='d',\n",
    "                      cmap=plt.cm.Blues)\n",
    "\n",
    "plot_roc_curve(classifier, X_test_tf, Y_test) \n",
    "plt.show()"
   ]
  },
  {
   "cell_type": "code",
   "execution_count": 18,
   "id": "78e57a83-c677-4590-b95d-df5ebe2dd02b",
   "metadata": {},
   "outputs": [],
   "source": [
    "# cross validation\n",
    "# scores = cross_val_score(estimator=classifier,\n",
    "#                              X=X,\n",
    "#                              y=Y,\n",
    "#                              cv=10)\n",
    "# print (\"Validation scores from each iteration of the cross validation \", scores) \n",
    "# print (\"Mean value across of validation scores \", scores.mean())\n",
    "# print (\"Standard deviation of validation scores \", scores.std())"
   ]
  },
  {
   "cell_type": "code",
   "execution_count": 19,
   "id": "ca9fc7e7-bc27-4a77-9bb2-4c8ab4f467f5",
   "metadata": {},
   "outputs": [
    {
     "data": {
      "text/plain": [
       "['RandomForest_model.sav']"
      ]
     },
     "execution_count": 19,
     "metadata": {},
     "output_type": "execute_result"
    }
   ],
   "source": [
    "filename = 'RandomForest_model.sav'\n",
    "joblib.dump(classifier, filename)"
   ]
  },
  {
   "cell_type": "markdown",
   "id": "0704dc39-4b15-4dcc-a603-597db9ac6bab",
   "metadata": {},
   "source": [
    "## Predictive model for the stance toward overturn of Roe vs. Wade on an individual tweet"
   ]
  },
  {
   "cell_type": "code",
   "execution_count": 23,
   "id": "1edf42c7-5d98-459c-b8eb-9d7721799629",
   "metadata": {},
   "outputs": [
    {
     "name": "stdout",
     "output_type": "stream",
     "text": [
      "Positive\n",
      "[1] [[0.38628724 0.61371276]]\n"
     ]
    }
   ],
   "source": [
    "tweet = \"ENTER great user profile description phone twet abortion welll well glasses Roe vs Wade\"\n",
    "tweet = pd.Series(tweet)\n",
    "tweet = tweet.apply(remove_punctuation, exclude=set()).apply(tokenize).apply(remove_stopwords, exclude=set(['not', 'never', 'nor'])).apply(lemmatize)\n",
    "n_tokens = tweet.str.len().iloc[0]\n",
    "model = joblib.load(\"LinearSVC_model.sav\")\n",
    "tfidf = joblib.load(\"tfidf.sav\")\n",
    "if n_tokens > 6:\n",
    "    tweet = tweet.apply(lambda x: ' '.join(x))\n",
    "\n",
    "    tweet_test_tf = tfidf.transform(tweet)\n",
    "    sentiment_pred = model.predict(tweet_test_tf)\n",
    "    sentiment_proba = model.predict_proba(tweet_test_tf)\n",
    "    if sentiment_pred == 1:\n",
    "        print(\"Positive\")\n",
    "    else:\n",
    "        print(\"Negative\")\n",
    "    print(sentiment_pred, sentiment_proba)\n",
    "else:\n",
    "    print(\"The user profile/description is too short\")"
   ]
  },
  {
   "cell_type": "code",
   "execution_count": null,
   "id": "62ce9bfb-0032-4921-b8e0-0eb999996708",
   "metadata": {},
   "outputs": [],
   "source": []
  }
 ],
 "metadata": {
  "kernelspec": {
   "display_name": "Python 3 (ipykernel)",
   "language": "python",
   "name": "python3"
  },
  "language_info": {
   "codemirror_mode": {
    "name": "ipython",
    "version": 3
   },
   "file_extension": ".py",
   "mimetype": "text/x-python",
   "name": "python",
   "nbconvert_exporter": "python",
   "pygments_lexer": "ipython3",
   "version": "3.9.11"
  }
 },
 "nbformat": 4,
 "nbformat_minor": 5
}
